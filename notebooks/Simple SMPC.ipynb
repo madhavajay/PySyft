{
 "cells": [
  {
   "cell_type": "code",
   "execution_count": 1,
   "id": "d8dd0801-8455-44e1-8c48-f715b993c6bb",
   "metadata": {},
   "outputs": [],
   "source": [
    "import syft as sy\n",
    "import numpy as np\n",
    "from syft.core.tensor.smpc.mpc_tensor import MPCTensor\n",
    "\n",
    "sy.logger.remove()"
   ]
  },
  {
   "cell_type": "code",
   "execution_count": 2,
   "id": "701e5d26-243d-4bf0-869f-406a2be32495",
   "metadata": {},
   "outputs": [
    {
     "name": "stdout",
     "output_type": "stream",
     "text": [
      "Connecting to http://localhost:8081... done! \t Logging into au... done!\n"
     ]
    }
   ],
   "source": [
    "gryffindor = sy.login(email=\"info@openmined.org\", password=\"changethis\", port=8081)"
   ]
  },
  {
   "cell_type": "code",
   "execution_count": 3,
   "id": "7ad8e732-d881-4765-a784-5d54c550fd81",
   "metadata": {},
   "outputs": [
    {
     "data": {
      "text/plain": [
       "<syft.proxy.syft.core.tensor.tensor.TensorPointer at 0x14045f7c0>"
      ]
     },
     "execution_count": 3,
     "metadata": {},
     "output_type": "execute_result"
    }
   ],
   "source": [
    "# fixed now works\n",
    "value_1 = sy.core.tensor.tensor.Tensor(np.array([[1, 2, 3, 4, -5]], dtype=np.int64))\n",
    "value_1.send(gryffindor)"
   ]
  },
  {
   "cell_type": "code",
   "execution_count": null,
   "id": "6a0a9c41-8dd5-4276-adf3-a344f222d761",
   "metadata": {},
   "outputs": [],
   "source": [
    "# works to send\n",
    "value_2 = sy.core.tensor.tensor.Tensor([1,2,3])\n",
    "value_2.send(gryffindor)"
   ]
  },
  {
   "cell_type": "code",
   "execution_count": null,
   "id": "2a59bc27-ad12-44c2-861b-6b53dd24e263",
   "metadata": {},
   "outputs": [],
   "source": []
  }
 ],
 "metadata": {
  "kernelspec": {
   "display_name": "Python 3 (ipykernel)",
   "language": "python",
   "name": "python3"
  },
  "language_info": {
   "codemirror_mode": {
    "name": "ipython",
    "version": 3
   },
   "file_extension": ".py",
   "mimetype": "text/x-python",
   "name": "python",
   "nbconvert_exporter": "python",
   "pygments_lexer": "ipython3",
   "version": "3.9.4"
  }
 },
 "nbformat": 4,
 "nbformat_minor": 5
}
